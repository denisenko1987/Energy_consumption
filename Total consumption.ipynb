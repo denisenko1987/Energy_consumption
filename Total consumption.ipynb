{
 "cells": [
  {
   "cell_type": "code",
   "execution_count": 37,
   "metadata": {},
   "outputs": [],
   "source": [
    "import pandas as pd\n",
    "import datetime as dt\n",
    "import time\n",
    "from datetime import datetime, timedelta\n",
    "import os\n",
    "import numpy as np\n",
    "\n",
    "%matplotlib inline\n",
    "import matplotlib.pyplot as plt\n",
    "import seaborn; seaborn.set()"
   ]
  },
  {
   "cell_type": "code",
   "execution_count": 38,
   "metadata": {},
   "outputs": [],
   "source": [
    "# Задаем сегодняшнюю дату\n",
    "today = datetime.now()\n",
    "\n",
    "# Задаем годовую и дневную дельту\n",
    "year = timedelta(days = 365)\n",
    "day = timedelta(days = 1)\n",
    "\n",
    "# Зададим переменную для создания пути\n",
    "now = str(today.date())\n"
   ]
  },
  {
   "cell_type": "markdown",
   "metadata": {},
   "source": [
    "### Загрузим таблицу компаний"
   ]
  },
  {
   "cell_type": "code",
   "execution_count": 39,
   "metadata": {},
   "outputs": [],
   "source": [
    "company = pd.read_excel('company.xlsx') # По этой таблице будем проводить фильтрацию компаний\n",
    "\n",
    "# Очистим названия компаний от разных кавычек и пробелов вначале и конце строки\n",
    "def new_comp(x):\n",
    "    x = x.replace('«','\"').replace('»','\"').strip()\n",
    "    return x\n",
    "\n",
    "company['company'] = company['company'].apply(new_comp)\n",
    "company['industry'] = company['industry'].apply(new_comp)\n",
    "company = company.drop('Unnamed: 0',axis=1)"
   ]
  },
  {
   "cell_type": "markdown",
   "metadata": {},
   "source": [
    "### Загрузим таблицу регионов"
   ]
  },
  {
   "cell_type": "code",
   "execution_count": 40,
   "metadata": {},
   "outputs": [],
   "source": [
    "regions = pd.read_excel('regions.xlsx', header = None)\n",
    "\n",
    "# Очистили ee от шлака\n",
    "regions[0] = regions[0].apply(lambda x: x.strip()) # в таком виде эта таблица понадобится дальше для конкатинации\n",
    "\n",
    "# Сделаем на ее основе еще одну таблицу как справочник по регионам\n",
    "region_df = regions.copy()\n",
    "\n",
    "# задаем функцию для выявления ОЭС\n",
    "def filter_region(str):\n",
    "    if 'ОЭС' in str:\n",
    "        return str\n",
    "\n",
    "# Применяем\n",
    "region_df['UES'] = region_df[0].apply(filter_region)\n",
    "\n",
    "# Задаем функцию для заполнения пустых строк регионов\n",
    "def fill_empty(col):\n",
    "    col = col.fillna(0)\n",
    "    for i in range(len(col)):\n",
    "        if col.iloc[i] == 0:\n",
    "            col.iloc[i] = col.iloc[i-1]\n",
    "        else:\n",
    "            continue\n",
    "    return col\n",
    "\n",
    "# Применяем\n",
    "region_df['UES'] = fill_empty(region_df['UES'])\n",
    "\n",
    "# Дополнительно убираем ненужные строки, сбрасываем индексы, переименовываем колонки\n",
    "region_df = region_df.drop(region_df[region_df[0].str.contains('ОЭС', regex=True)==True].index)\n",
    "region_df = region_df.reset_index()\n",
    "region_df = region_df.drop(['index'],axis=1)\n",
    "region_df.columns = ['region','UES']"
   ]
  },
  {
   "cell_type": "markdown",
   "metadata": {},
   "source": [
    "# Энергосистемы"
   ]
  },
  {
   "cell_type": "markdown",
   "metadata": {},
   "source": [
    " Здесь мы загрузим, обратобаем и проанализируем данные по потреблению энергосистем, воходящих в единую энергосистему России"
   ]
  },
  {
   "cell_type": "markdown",
   "metadata": {},
   "source": [
    "### UES Загрузим таблицу с оперативными данными потребления энергосистем"
   ]
  },
  {
   "cell_type": "code",
   "execution_count": 41,
   "metadata": {},
   "outputs": [],
   "source": [
    "# Загружаем основной датафрэйм\n",
    "df_ues1 = pd.read_excel('анализ изменения потребления.xlsx', sheet_name=0)\n",
    "df_ues2 = pd.read_excel('анализ изменения потребления.xlsx', sheet_name=1)\n",
    "\n",
    "df_ues2 = df_ues2.drop(['Unnamed: 0','Unnamed: 1'],axis=1)\n",
    "\n",
    "df_ues = pd.concat([df_ues1,df_ues2],axis=1)\n",
    "\n",
    "df_ues['Unnamed: 0'] = df_ues['Unnamed: 0'].apply(lambda x: x.strip())"
   ]
  },
  {
   "cell_type": "code",
   "execution_count": 42,
   "metadata": {},
   "outputs": [],
   "source": [
    "# Сделаем три отдельных таблицы:\n",
    "\n",
    "# С данными по потреблению за 20 год\n",
    "df_ues20 = df_ues[df_ues['Unnamed: 0']=='Потребление ЭЭ 2020']\n",
    "df_ues20.reset_index(inplace=True)\n",
    "df_ues20 = df_ues20.drop('index', axis=1)\n",
    "\n",
    "# С данными по потреблению за 19 год\n",
    "df_ues19 = df_ues[df_ues['Unnamed: 0']=='Потребление ЭЭ 2019']\n",
    "df_ues19.reset_index(inplace=True)\n",
    "df_ues19 = df_ues19.drop('index', axis=1)\n",
    "\n",
    "# С приведенными по температуре данными по потреблению за 20 год\n",
    "df_uespr = df_ues[df_ues['Unnamed: 0']=='Приведение ЭЭ опер. к прошлому году']\n",
    "df_uespr.reset_index(inplace=True)\n",
    "df_uespr = df_uespr.drop('index', axis=1)"
   ]
  },
  {
   "cell_type": "code",
   "execution_count": 43,
   "metadata": {},
   "outputs": [],
   "source": [
    "# Присоединили к таблицам с потреблением имена регионов\n",
    "df_ues19 = pd.concat([regions,df_ues19],axis=1)\n",
    "df_ues20 = pd.concat([regions,df_ues20],axis=1)\n",
    "df_uespr = pd.concat([regions,df_uespr],axis=1)\n",
    "\n",
    "# Очистили\n",
    "df_ues19 = df_ues19.drop(['Unnamed: 0','Unnamed: 1'],axis=1)\n",
    "df_ues20 = df_ues20.drop(['Unnamed: 0','Unnamed: 1'],axis=1)\n",
    "df_uespr = df_uespr.drop(['Unnamed: 0','Unnamed: 1'],axis=1)\n",
    "\n",
    "# Пишем новые индексы на 19 и 20 года\n",
    "index_ues19 = pd.DatetimeIndex(pd.Series(df_ues.iloc[0][2:]))\n",
    "index_ues20 = pd.DatetimeIndex(pd.Series(df_ues.iloc[1][2:]))"
   ]
  },
  {
   "cell_type": "code",
   "execution_count": 44,
   "metadata": {},
   "outputs": [],
   "source": [
    "# Транспонитуем\n",
    "df_ues19 = df_ues19.T\n",
    "df_ues20 = df_ues20.T\n",
    "df_uespr = df_uespr.T"
   ]
  },
  {
   "cell_type": "code",
   "execution_count": 45,
   "metadata": {},
   "outputs": [],
   "source": [
    "# Сделаем названия компаний заголовками\n",
    "\n",
    "new_header_ues20 = df_ues20.iloc[0]\n",
    "\n",
    "df_ues20 = df_ues20[1:]\n",
    "df_ues20.columns = new_header_ues20\n",
    "# Сделаем новые индексы\n",
    "df_ues20.index = index_ues20\n",
    "\n",
    "df_ues19 = df_ues19[1:]\n",
    "df_ues19.columns = new_header_ues20\n",
    "# Сделаем новые индексы\n",
    "df_ues19.index = index_ues19\n",
    "\n",
    "df_uespr = df_uespr[1:]\n",
    "df_uespr.columns = new_header_ues20\n",
    "# Сделаем новые индексы\n",
    "df_uespr.index = index_ues20"
   ]
  },
  {
   "cell_type": "markdown",
   "metadata": {},
   "source": [
    "### Ведем переменную последней даты, которая есть в рассматриваемых данных"
   ]
  },
  {
   "cell_type": "code",
   "execution_count": 46,
   "metadata": {},
   "outputs": [],
   "source": [
    "lastday = df_ues20.index[-1].day"
   ]
  },
  {
   "cell_type": "markdown",
   "metadata": {},
   "source": [
    "### UES Заресемплим данные в понедельные"
   ]
  },
  {
   "cell_type": "code",
   "execution_count": 47,
   "metadata": {},
   "outputs": [],
   "source": [
    "df_ues20_week = df_ues20.resample('W').sum()\n",
    "df_ues20_week.index = df_ues20_week.index.week\n",
    "\n",
    "df_ues19_week = df_ues19.resample('W').sum()\n",
    "df_ues19_week.index = df_ues19_week.index.week\n",
    "\n",
    "df_uespr_week = df_uespr.resample('W').sum()\n",
    "df_uespr_week.index = df_uespr_week.index.week"
   ]
  },
  {
   "cell_type": "markdown",
   "metadata": {},
   "source": [
    "### UES Заресемплим данные в помесячные"
   ]
  },
  {
   "cell_type": "code",
   "execution_count": 48,
   "metadata": {},
   "outputs": [],
   "source": [
    "df_ues20_month = df_ues20.resample('M').sum()\n",
    "df_ues20_month.index = df_ues20_month.index.month\n",
    "\n",
    "df_ues19_month = df_ues19.resample('M').sum()\n",
    "df_ues19_month.index = df_ues19_month.index.month\n",
    "\n",
    "df_uespr_month = df_uespr.resample('M').sum()\n",
    "df_uespr_month.index = df_uespr_month.index.month"
   ]
  },
  {
   "cell_type": "markdown",
   "metadata": {},
   "source": [
    "### UES Разности по неделям"
   ]
  },
  {
   "cell_type": "code",
   "execution_count": 49,
   "metadata": {},
   "outputs": [],
   "source": [
    "# Абсолютные значения\n",
    "abs_fall_week = df_ues20_week - df_ues19_week\n",
    "abs_fall_week_t = df_uespr_week - df_ues19_week\n",
    "\n",
    "# Относительные занчаения\n",
    "per_fall_week = abs_fall_week*100/df_ues19_week\n",
    "per_fall_week_t = abs_fall_week_t*100/df_ues19_week\n",
    "\n",
    "# Округляем\n",
    "per_fall_week_t = per_fall_week_t.astype(float).round(1)"
   ]
  },
  {
   "cell_type": "markdown",
   "metadata": {},
   "source": [
    "### UES Разности по месяцам"
   ]
  },
  {
   "cell_type": "code",
   "execution_count": 50,
   "metadata": {},
   "outputs": [],
   "source": [
    "# Абсолютные значения\n",
    "abs_fall_month = df_ues20_month - df_ues19_month\n",
    "abs_fall_month_t = df_uespr_month - df_ues19_month\n",
    "\n",
    "# Относительные занчаения\n",
    "per_fall_month = abs_fall_month*100/df_ues19_month\n",
    "per_fall_month_t = abs_fall_month_t*100/df_ues19_month"
   ]
  },
  {
   "cell_type": "markdown",
   "metadata": {},
   "source": [
    "### UES Загрузим таблицу с фактическими данными потребелия по месяцам"
   ]
  },
  {
   "cell_type": "code",
   "execution_count": 51,
   "metadata": {},
   "outputs": [],
   "source": [
    "mes_ues = pd.read_excel('Приведен_помес_потребл_ЕЭС_2019_2020.xlsx', sheet_name=0)\n",
    "\n",
    "mes_ues = mes_ues.iloc[1:]\n",
    "\n",
    "mes_ues.index = mes_ues['Потебление России по месяцамза 2019 и 2020 год, млн. кВтч']\n",
    "mes_ues = mes_ues.drop('Потебление России по месяцамза 2019 и 2020 год, млн. кВтч',axis=1)\n",
    "\n",
    "# Прописываем столбец с датами\n",
    "mes_ues.iloc[1] = mes_ues.iloc[1] + mes_ues.iloc[0]\n",
    "\n",
    "def make_datetime(x):\n",
    "    if isinstance(x, str):\n",
    "        x = x.replace('Январь','jan ')\n",
    "        x = x.replace('Февраль','feb ')\n",
    "        x = x.replace('Март','mar ')\n",
    "        x = x.replace('Апрель','apr ')\n",
    "        x = x.replace('Май','may ')\n",
    "        x = x.replace('Июнь','jun ')\n",
    "        x = x.replace('Июль','jul ')\n",
    "        x = x.replace('Август','aug ')\n",
    "        x = x.replace('Сентябрь','sep ')\n",
    "        x = x.replace('Октябрь','oct ')\n",
    "        x = x.replace('Ноябрь','nov ')\n",
    "        x = x.replace('Декабрь','dec ')\n",
    "        #x = datetime.strptime(x, '%b %Y')\n",
    "        #x = datetime.fromtimes_uestamp(x)\n",
    "    return x\n",
    "\n",
    "mes_ues.iloc[1] = mes_ues.iloc[1].apply(make_datetime)\n",
    "mes_ues.iloc[1] = mes_ues.iloc[1].apply(lambda x: datetime.strptime(x, '%b %Y'))\n",
    "\n",
    "# Прописываем новые колонки\n",
    "mes_ues.columns = pd.DatetimeIndex(mes_ues.iloc[1])\n",
    "\n",
    "mes_ues = mes_ues.iloc[2:]\n",
    " \n",
    "# Список энергосистем \n",
    "list_UES = ['ЕЭС России', 'ОЭС Центра', 'ОЭС Средней Волги', 'ОЭС Урала', 'ОЭС Северо-Запада', 'ОЭС Юга',\n",
    "           'ОЭС Сибири', 'ОЭС Востока']\n",
    "\n",
    "# ДФ с фактическими показателями потребления по всем регионам\n",
    "mes_ues_all = mes_ues.T\n",
    "list_all = mes_ues_all.columns\n",
    "\n",
    "# Приведем названия субъектов к общему виду\n",
    "list_all_new = []\n",
    "for x in list_all:\n",
    "    x = x.replace('э/с','ЭС')\n",
    "    x = x.replace('Ханты-Мансийского и Ямало-Ненецкого автономных округов','ХМАО и ЯНАО')\n",
    "    list_all_new.append(x)\n",
    "\n",
    "# Перепропишем названия столбцов\n",
    "mes_ues_all.columns = list_all_new\n",
    "\n",
    "mes_ues_20_month = mes_ues_all.loc['2020-01-01':] \n",
    "mes_ues_19_month = mes_ues_all.iloc[:len(mes_ues_20_month)]\n",
    "\n",
    "# ДФ со снижениями по ВСЕМ регионам\n",
    "mes_ues_percent = pd.DataFrame(mes_ues_20_month.values / mes_ues_19_month.values*100 - 100)\n",
    "mes_ues_percent.columns = list_all_new\n",
    "#mes_ues_percent.index = ['январь','февраль','март','апрель','май','июнь','июль'] # \n",
    "\n",
    "# ДФ со снижениями по ОЭС\n",
    "mes_UES = mes_ues_percent.T[mes_ues_percent.T.index.isin(list_UES)]\n",
    "mes_UES = mes_UES.T[list_UES]"
   ]
  },
  {
   "cell_type": "markdown",
   "metadata": {},
   "source": [
    "Итого у нас есть:\\n\n",
    "mes_ues_all - ДФ с фактическими показателями потребления по всем регионам\\n\n",
    "mes_ues_percent - ДФ со снижениями по ВСЕМ регионам\\n\n",
    "mes_UES - ДФ со снижениями по ОЭС"
   ]
  },
  {
   "cell_type": "markdown",
   "metadata": {},
   "source": [
    "### UES Отклонения с 1 числа для ОПЕРАТИВНЫХ ДАННЫХ "
   ]
  },
  {
   "cell_type": "code",
   "execution_count": 52,
   "metadata": {},
   "outputs": [],
   "source": [
    "# Задаем месяц, с которого мы будем смотреть оперативные данные потребления. Оно зависит от\n",
    "# количества месяцев, по которым СО дал данные о фактическом потреблении\n",
    "oper_month = mes_ues_all.index[-1].month +1"
   ]
  },
  {
   "cell_type": "code",
   "execution_count": 53,
   "metadata": {},
   "outputs": [
    {
     "name": "stdout",
     "output_type": "stream",
     "text": [
      "Длинна ряда для 20 года по температуре -  44\n",
      "Длинна ряда для 19 года -  44\n"
     ]
    }
   ],
   "source": [
    "df_uespr_otkl_oper_mon = df_uespr.loc[f'{today.year}-{oper_month}-01':]\n",
    "df_ues19_otkl_oper_mon = df_ues19.loc[f'{today.year-1}-{oper_month}-01':]\n",
    "df_ues19_otkl_oper_mon = df_ues19_otkl_oper_mon.iloc[:len(df_uespr_otkl_oper_mon)]\n",
    "\n",
    "print('Длинна ряда для 20 года по температуре - ',len(df_uespr_otkl_oper_mon))\n",
    "print('Длинна ряда для 19 года - ',len(df_ues19_otkl_oper_mon))"
   ]
  },
  {
   "cell_type": "code",
   "execution_count": 54,
   "metadata": {},
   "outputs": [
    {
     "name": "stdout",
     "output_type": "stream",
     "text": [
      "0\n",
      "ЕЭС России          -3.1\n",
      "ОЭС Центра          -1.1\n",
      "ОЭС Средней Волги   -4.1\n",
      "ОЭС Урала           -8.0\n",
      "ОЭС Северо-Запада   -2.8\n",
      "ОЭС Юга             -0.4\n",
      "ОЭС Сибири          -0.2\n",
      "ОЭС Востока         -0.8\n",
      "dtype: float64\n"
     ]
    }
   ],
   "source": [
    "# Отклонение потребления с 1 июля по текущий момент\n",
    "\n",
    "ues_delta_1_oper_date = np.round(df_uespr_otkl_oper_mon[list_UES].sum() / df_ues19_otkl_oper_mon[list_UES].sum()*100-100,1)\n",
    "\n",
    "print(ues_delta_1_oper_date)"
   ]
  },
  {
   "cell_type": "markdown",
   "metadata": {},
   "source": [
    "### UES Отклонения с 1 числа ТЕКУЩЕГО МЕСЯЦА"
   ]
  },
  {
   "cell_type": "code",
   "execution_count": 55,
   "metadata": {},
   "outputs": [
    {
     "name": "stdout",
     "output_type": "stream",
     "text": [
      "Длинна ряда для 20 года по температуре -  13\n",
      "Длинна ряда для 19 года -  13\n"
     ]
    }
   ],
   "source": [
    "df_uespr_otkl_act_mon = df_uespr.loc[f'{today.year}-{today.month}-01':]\n",
    "df_ues19_otkl_act_mon = df_ues19.loc[f'{today.year-1}-{today.month}-01':]\n",
    "df_ues19_otkl_act_mon = df_ues19_otkl_act_mon.iloc[:len(df_uespr_otkl_act_mon)]\n",
    "\n",
    "print('Длинна ряда для 20 года по температуре - ',len(df_uespr_otkl_act_mon))\n",
    "print('Длинна ряда для 19 года - ',len(df_ues19_otkl_act_mon))"
   ]
  },
  {
   "cell_type": "code",
   "execution_count": 56,
   "metadata": {},
   "outputs": [
    {
     "name": "stdout",
     "output_type": "stream",
     "text": [
      "0\n",
      "ЕЭС России          -2.5\n",
      "ОЭС Центра          -1.6\n",
      "ОЭС Средней Волги   -3.9\n",
      "ОЭС Урала           -8.1\n",
      "ОЭС Северо-Запада   -0.2\n",
      "ОЭС Юга              3.3\n",
      "ОЭС Сибири           0.0\n",
      "ОЭС Востока          2.3\n",
      "dtype: float64\n"
     ]
    }
   ],
   "source": [
    "# Отклонение потребления с 1 числа текущего месяца\n",
    "\n",
    "ues_delta_1_act_date = np.round(df_uespr_otkl_act_mon[list_UES].sum() / \n",
    "                                df_ues19_otkl_act_mon[list_UES].sum()*100-100,1)\n",
    "\n",
    "print(ues_delta_1_act_date)"
   ]
  },
  {
   "cell_type": "markdown",
   "metadata": {},
   "source": [
    "### UES Отклонения с 1 ЯНВАРЯ"
   ]
  },
  {
   "cell_type": "code",
   "execution_count": 57,
   "metadata": {},
   "outputs": [
    {
     "name": "stdout",
     "output_type": "stream",
     "text": [
      "0\n",
      "ЕЭС России          -2.3\n",
      "ОЭС Центра          -1.3\n",
      "ОЭС Средней Волги   -4.6\n",
      "ОЭС Урала           -4.8\n",
      "ОЭС Северо-Запада   -2.6\n",
      "ОЭС Юга             -1.5\n",
      "ОЭС Сибири          -0.4\n",
      "ОЭС Востока          2.4\n",
      "dtype: float64\n"
     ]
    }
   ],
   "source": [
    "# Отклонение потребления с 1 янв на фактических данных\n",
    "\n",
    "ues_delta_1jan_f = np.round((((df_uespr_otkl_oper_mon[list_UES].sum() + \n",
    "                         mes_ues_20_month['2020-01-01':][list_UES].sum()) / \n",
    "                     (df_ues19_otkl_oper_mon[list_UES].sum() + \n",
    "                      mes_ues_19_month['2019-01-01':][list_UES].sum()))*100 - 100),1)\n",
    "\n",
    "print(ues_delta_1jan_f)"
   ]
  },
  {
   "cell_type": "markdown",
   "metadata": {},
   "source": [
    "### UES Отклонения с 30 МАРТА"
   ]
  },
  {
   "cell_type": "code",
   "execution_count": 58,
   "metadata": {},
   "outputs": [
    {
     "name": "stdout",
     "output_type": "stream",
     "text": [
      "0\n",
      "ЕЭС России          -4.0\n",
      "ОЭС Центра          -2.3\n",
      "ОЭС Средней Волги   -6.5\n",
      "ОЭС Урала           -7.8\n",
      "ОЭС Северо-Запада   -3.7\n",
      "ОЭС Юга             -2.7\n",
      "ОЭС Сибири          -1.7\n",
      "ОЭС Востока          0.9\n",
      "dtype: float64\n"
     ]
    }
   ],
   "source": [
    "# Отклонение потребления с 30 марта по по фактическим данным\n",
    "\n",
    "ues_delta_30mar_f = np.round((((df_uespr_otkl_oper_mon[list_UES].sum() + \n",
    "                         mes_ues_20_month['2020-04-01':][list_UES].sum()) / \n",
    "                     (df_ues19_otkl_oper_mon[list_UES].sum() + \n",
    "                      mes_ues_19_month['2019-04-01':][list_UES].sum()))*100 - 100),1)\n",
    "\n",
    "print(ues_delta_30mar_f)"
   ]
  },
  {
   "cell_type": "markdown",
   "metadata": {},
   "source": [
    "### UES Сведем отклонения в одну таблицу"
   ]
  },
  {
   "cell_type": "code",
   "execution_count": 59,
   "metadata": {},
   "outputs": [],
   "source": [
    "ues_date_delta = pd.DataFrame()\n",
    "ues_date_delta = pd.concat([ues_date_delta,ues_delta_1jan_f],axis=1)\n",
    "ues_date_delta = pd.concat([ues_date_delta,ues_delta_30mar_f],axis=1)\n",
    "ues_date_delta = pd.concat([ues_date_delta,ues_delta_1_act_date],axis=1)\n",
    "\n",
    "ues_date_delta.columns = ['Отклонения с 1 января','Отклонения с 30 марта',f'Отклонения с 1.{today.month}']"
   ]
  },
  {
   "cell_type": "markdown",
   "metadata": {},
   "source": [
    "### UES Сведем таблицу с месячными отклонениями потребелия в энергосистемах\n",
    "\n",
    "Для этого соединими существующие фактические данные о помесячном потреблении и с недостающими оперативными данными"
   ]
  },
  {
   "cell_type": "code",
   "execution_count": 60,
   "metadata": {},
   "outputs": [],
   "source": [
    "# Создадим отдельный датафрейм под эту благородную цель\n",
    "month_ues_delta = mes_UES.round(1)\n",
    "\n",
    "# С учетом того, за сколько месяцев сейчас есть инфа о фактическом потреблении, конкатинируем данные\n",
    "if len(per_fall_month_t)-len(mes_UES) == 1:\n",
    "    transit_df_2 = pd.DataFrame(ues_delta_1_act_date).T\n",
    "    month_ues_delta = pd.concat([month_ues_delta,transit_df_2],ignore_index=True)\n",
    "    \n",
    "elif len(per_fall_month_t)-len(mes_UES) == 2:\n",
    "    per_fall_month_t_ues = per_fall_month_t[list_UES]\n",
    "    transit_df_1 = pd.DataFrame(per_fall_month_t_ues.iloc[len(mes_UES)]).T\n",
    "    month_ues_delta = pd.concat([mes_UES,transit_df_1],ignore_index=True)\n",
    "    transit_df_2 = pd.DataFrame(ues_delta_1_act_date).T\n",
    "    month_ues_delta = pd.concat([month_ues_delta,transit_df_2],ignore_index=True)\n",
    "\n",
    "# Округлим\n",
    "month_ues_delta = month_ues_delta.astype(float).round(1)"
   ]
  },
  {
   "cell_type": "code",
   "execution_count": 61,
   "metadata": {},
   "outputs": [],
   "source": [
    "# А теперь сделаем кульбит и пропишем индексы\n",
    "list_number_month = ['январь','февраль','март','апрель','май','июнь',\n",
    "                    'июль','август','сентябрь','октябрь','нобярь','декабрь']\n",
    "\n",
    "list_new_month = list_number_month[:len(month_ues_delta)]\n",
    "list_new_month[-1] = f'{list_new_month[-1]}' + f' до {lastday} числа'\n",
    "\n",
    "month_ues_delta.index = list_new_month"
   ]
  },
  {
   "cell_type": "markdown",
   "metadata": {},
   "source": [
    "### UES Анализ ОЭС с максимальной просадкой потребления в текущем месяце"
   ]
  },
  {
   "cell_type": "code",
   "execution_count": 62,
   "metadata": {},
   "outputs": [
    {
     "name": "stdout",
     "output_type": "stream",
     "text": [
      "Регион с наибольшим снижением потребления - ОЭС Урала\n",
      "Регион со вторым наибольшим снижением потребления - ОЭС Средней Волги\n"
     ]
    }
   ],
   "source": [
    "# Найдем регионы с максимальным отклонением\n",
    "\n",
    "region_min_1 = ues_delta_1_act_date.nsmallest(2).index[0]\n",
    "region_min_2 = ues_delta_1_act_date.nsmallest(2).index[1]\n",
    "\n",
    "print('Регион с наибольшим снижением потребления -',region_min_1)\n",
    "print('Регион со вторым наибольшим снижением потребления -',region_min_2)"
   ]
  },
  {
   "cell_type": "code",
   "execution_count": 64,
   "metadata": {
    "scrolled": true
   },
   "outputs": [],
   "source": [
    "# Задаем списки регионов с минимальным отклонением\n",
    "list_region_min_1 = list(region_df[region_df['UES']==region_min_1]['region'].unique())\n",
    "list_region_min_2 = list(region_df[region_df['UES']==region_min_2]['region'].unique())\n",
    "\n",
    "# Найдем субъекты РФ с наибольшим отклонением с начала года в рамках указаных ОЭС\n",
    "\n",
    "subjects_1_delta = (mes_ues_all.loc['2020'][list_region_min_1].sum() / mes_ues_all.iloc[:len(mes_ues_all.loc['2020'])][list_region_min_1].sum()*100 - 100).round(1)\n",
    "subjects_1_delta = pd.DataFrame(subjects_1_delta, columns = [f'Отклонение потребления регионов в {region_min_1}']).sort_values(by=[f'Отклонение потребления регионов в {region_min_1}'])"
   ]
  },
  {
   "cell_type": "code",
   "execution_count": 65,
   "metadata": {},
   "outputs": [],
   "source": [
    "# относительные колебания по 1 минимальному региону с 1 числа текущего месяца\n",
    "\n",
    "reg_per_delta_act_mon = pd.Series(df_uespr_otkl_act_mon[list_region_min_1].sum() / \n",
    "              df_ues19_otkl_act_mon[list_region_min_1].sum())*100 - 100\n",
    "\n",
    "reg_per_delta_act_mon = reg_per_delta_act_mon.round(1).sort_values()"
   ]
  },
  {
   "cell_type": "code",
   "execution_count": 66,
   "metadata": {},
   "outputs": [],
   "source": [
    "# относительные колебания по 1 минимальному региону с 1 числа текущего месяца\n",
    "\n",
    "reg_abs_delta_act_mon = pd.Series(df_uespr_otkl_act_mon[list_region_min_1].sum() - \n",
    "              df_ues19_otkl_act_mon[list_region_min_1].sum())\n",
    "\n",
    "reg_abs_delta_act_mon = reg_abs_delta_act_mon.round(1).sort_values()"
   ]
  },
  {
   "cell_type": "markdown",
   "metadata": {},
   "source": [
    "# Крупные промышленные потребители (индустрии)"
   ]
  },
  {
   "cell_type": "markdown",
   "metadata": {},
   "source": [
    "Далее идет аналогичный анализ потребления электроэнергии крупных промышленных потребителей"
   ]
  },
  {
   "cell_type": "markdown",
   "metadata": {},
   "source": [
    "### Ind Грузим две таблицы с потреблением за 2019 и 2020 года"
   ]
  },
  {
   "cell_type": "code",
   "execution_count": 67,
   "metadata": {},
   "outputs": [],
   "source": [
    "df_ind_20 = pd.read_excel('Динамика_по_крупным_потребителям.xlsx', sheet_name=1) # потребление за 2020 год\n",
    "df_ind_19 = pd.read_excel('Динамика_по_крупным_потребителям.xlsx', sheet_name=2) # потребление за 2019 год\n",
    "\n",
    "# Чистим параллельно\n",
    "df_ind_20 = df_ind_20.dropna(axis=0,how='all')\n",
    "df_ind_19 = df_ind_19.dropna(axis=0,how='all')\n",
    "\n",
    "# Вытаскиваем даты\n",
    "columns20 = df_ind_20.iloc[0].values[3:]\n",
    "columns19 = df_ind_19.iloc[0].values[3:]\n",
    "\n",
    "# Преобразуем в серию, чтоб было проще обработать\n",
    "colser20 = pd.Series(columns20)\n",
    "colser19 = pd.Series(columns19)"
   ]
  },
  {
   "cell_type": "code",
   "execution_count": 68,
   "metadata": {},
   "outputs": [],
   "source": [
    "# Запилим функцию по очистке даты и переводу в формат datetime для 2020 года\n",
    "\n",
    "def make_datetime_ind_20(x):\n",
    "    if isinstance(x, str):\n",
    "        x = x.replace('янв','jan 2020')\n",
    "        x = x.replace('фев','feb 2020')\n",
    "        x = x.replace('мар','mar 2020')\n",
    "        x = x.replace('апр','apr 2020')\n",
    "        x = x.replace('май','may 2020')\n",
    "        x = x.replace('июн','jun 2020')\n",
    "        x = x.replace('июл','jul 2020')\n",
    "        x = x.replace('авг','aug 2020')\n",
    "        x = x.replace('сен','sep 2020')\n",
    "        x = x.replace('окт','oct 2020')\n",
    "        x = x.replace('ноя','nov 2020')\n",
    "        x = x.replace('дек','dec 2020')\n",
    "        x = dt.datetime.strptime(x, '%d %b %Y')\n",
    "    return x\n",
    "\n",
    "# Запилим функцию по очистке даты и переводу в формат datetime для 2019 года\n",
    "\n",
    "def make_datetime_ind_19(x):\n",
    "    if isinstance(x, str):\n",
    "        x = x.replace('янв','jan 2019')\n",
    "        x = x.replace('фев','feb 2019')\n",
    "        x = x.replace('мар','mar 2019')\n",
    "        x = x.replace('апр','apr 2019')\n",
    "        x = x.replace('май','may 2019')\n",
    "        x = x.replace('июн','jun 2019')\n",
    "        x = x.replace('июл','jul 2019')\n",
    "        x = x.replace('авг','aug 2019')\n",
    "        x = x.replace('сен','sep 2019')\n",
    "        x = x.replace('окт','oct 2019')\n",
    "        x = x.replace('ноя','nov 2019')\n",
    "        x = x.replace('дек','dec 2019')\n",
    "        x = dt.datetime.strptime(x, '%d %b %Y')\n",
    "    return x"
   ]
  },
  {
   "cell_type": "code",
   "execution_count": 69,
   "metadata": {},
   "outputs": [],
   "source": [
    "# Преобразуем все элементы серии в формат datetime\n",
    "colser20 = colser20.apply(make_datetime_ind_20)\n",
    "colser19 = colser19.apply(make_datetime_ind_19)\n",
    "\n",
    "# Создадим индексы из элементов datetime\n",
    "new_index_ind_20 = pd.DatetimeIndex(colser20)\n",
    "new_index_ind_19 = pd.DatetimeIndex(colser19)"
   ]
  },
  {
   "cell_type": "code",
   "execution_count": 70,
   "metadata": {},
   "outputs": [],
   "source": [
    "# Найдем индекс, с которого начинается РЖД\n",
    "indRZD20 = df_ind_20['Unnamed: 0'][df_ind_20['Unnamed: 0']=='ОАО «РЖД» (на основе данных о потреблении ООО «Русэнергосбыт»)'].index[0]\n",
    "# Найдем индекс, с которого начинается Магистральные нефтепроводы\n",
    "indNeft20 = df_ind_20['Unnamed: 0'][df_ind_20['Unnamed: 0']=='Магистральные нефтепроводы (на основе данных о потреблении ООО «Русэнергоресурс» и \\nООО «Транснефтьэнерго»)'].index[0]\n",
    "\n",
    "# Найдем индекс, с которого начинается РЖД\n",
    "indRZD19 = df_ind_19['Unnamed: 0'][df_ind_19['Unnamed: 0']=='ОАО «РЖД» (на основе данных о потреблении ООО «Русэнергосбыт»)'].index[0]\n",
    "# Найдем индекс, с которого начинается Магистральные нефтепроводы\n",
    "indNeft19 = df_ind_19['Unnamed: 0'][df_ind_19['Unnamed: 0']=='Магистральные нефтепроводы (на основе данных о потреблении ООО «Русэнергоресурс» и \\nООО «Транснефтьэнерго»)'].index[0]"
   ]
  },
  {
   "cell_type": "code",
   "execution_count": 71,
   "metadata": {},
   "outputs": [],
   "source": [
    "df_ind_20['Unnamed: 2'][indRZD20] = 'ОАО \"РЖД\"'\n",
    "df_ind_20['Unnamed: 2'][indNeft20] = 'Магистральные нефтепроводы'\n",
    "\n",
    "df_ind_19['Unnamed: 2'][indRZD19] = 'ОАО \"РЖД\"'\n",
    "df_ind_19['Unnamed: 2'][indNeft19] = 'Магистральные нефтепроводы'\n",
    "\n",
    "\n",
    "# Пропишем нужные данные для колонок ОАО РЖД\n",
    "for i in range(indRZD20+1,indNeft20):\n",
    "    df_ind_20['Unnamed: 2'][i] = 'ОАО \"РЖД\" ' + df_ind_20['Unnamed: 0'][i][4:]\n",
    "    df_ind_19['Unnamed: 2'][i] = 'ОАО \"РЖД\" ' + df_ind_19['Unnamed: 0'][i][4:]\n",
    "\n",
    "# Пропишем нужные данные для колонок Магистральные нефтепроводы\n",
    "for i in range(indNeft20+1,len(df_ind_20)+2):\n",
    "    df_ind_20['Unnamed: 2'][i] = 'Магистральные нефтепроводы ' + df_ind_20['Unnamed: 0'][i][4:]\n",
    "    df_ind_19['Unnamed: 2'][i] = 'Магистральные нефтепроводы ' + df_ind_19['Unnamed: 0'][i][4:]"
   ]
  },
  {
   "cell_type": "code",
   "execution_count": 72,
   "metadata": {},
   "outputs": [],
   "source": [
    "df_list = [df_ind_20, df_ind_19]\n",
    "\n",
    "# Заполняем недостающие значения в основной колонке с названиями предприятий и чистим обе таблицы\n",
    "for df in df_list:\n",
    "    df['Unnamed: 2'] = df['Unnamed: 2'].fillna(df['Unnamed: 0'])"
   ]
  },
  {
   "cell_type": "code",
   "execution_count": 73,
   "metadata": {},
   "outputs": [],
   "source": [
    "# Cleaning\n",
    "\n",
    "df_ind_20 = df_ind_20.drop(['Unnamed: 0','Unnamed: 1'], axis=1)\n",
    "df_ind_20 = df_ind_20.dropna()\n",
    "df_ind_20.reset_index(inplace=True)\n",
    "df_ind_20 = df_ind_20.drop('index', axis=1)\n",
    "\n",
    "df_ind_19 = df_ind_19.drop(['Unnamed: 0','Unnamed: 1'], axis=1)\n",
    "df_ind_19 = df_ind_19.dropna()\n",
    "df_ind_19.reset_index(inplace=True)\n",
    "df_ind_19 = df_ind_19.drop('index', axis=1)\n",
    "\n",
    "# Очистим названия компаний от разных кавычек и пробелов вначале и конце строки\n",
    "df_ind_20['Unnamed: 2'] = df_ind_20['Unnamed: 2'].apply(new_comp)\n",
    "df_ind_19['Unnamed: 2'] = df_ind_19['Unnamed: 2'].apply(new_comp)"
   ]
  },
  {
   "cell_type": "code",
   "execution_count": 74,
   "metadata": {},
   "outputs": [
    {
     "data": {
      "text/plain": [
       "[]"
      ]
     },
     "execution_count": 74,
     "metadata": {},
     "output_type": "execute_result"
    }
   ],
   "source": [
    "# Чекаем списки компаний\n",
    "list_comp_2020 = list(df_ind_20['Unnamed: 2'])\n",
    "list_comp_2019 = list(df_ind_19['Unnamed: 2'])\n",
    "list(set(list_comp_2020) ^ set(list_comp_2019))"
   ]
  },
  {
   "cell_type": "markdown",
   "metadata": {},
   "source": [
    "Списки идентичны! Значит можно пилить транспонированные таблицы"
   ]
  },
  {
   "cell_type": "code",
   "execution_count": 75,
   "metadata": {},
   "outputs": [],
   "source": [
    "df_ind_20 = df_ind_20.T\n",
    "df_ind_19 = df_ind_19.T"
   ]
  },
  {
   "cell_type": "code",
   "execution_count": 76,
   "metadata": {},
   "outputs": [],
   "source": [
    "# Сделаем названия компаний заголовками\n",
    "new_header20 = df_ind_20.iloc[0]\n",
    "df_ind_20 = df_ind_20[1:]\n",
    "df_ind_20.columns = new_header20\n",
    "# Сделаем новые индексы\n",
    "df_ind_20.index = new_index_ind_20"
   ]
  },
  {
   "cell_type": "code",
   "execution_count": 77,
   "metadata": {},
   "outputs": [],
   "source": [
    "# Сделаем названия компаний заголовками\n",
    "new_header19 = df_ind_19.iloc[0]\n",
    "df_ind_19 = df_ind_19[1:]\n",
    "df_ind_19.columns = new_header19\n",
    "# Сделаем новые индексы\n",
    "df_ind_19.index = new_index_ind_19"
   ]
  },
  {
   "cell_type": "code",
   "execution_count": 78,
   "metadata": {},
   "outputs": [],
   "source": [
    "### Задаем список индустрий\n",
    "\n",
    "list_industry = ['Металлургия','Алюминиевые заводы','Машиностроение','Добывающая промышленность',\n",
    "                'Предприятия химической промышленности, нефтепереработка',\n",
    "                 'Предприятия деревообрабатывающей промышленности','ОАО \"РЖД\"','Магистральные нефтепроводы']"
   ]
  },
  {
   "cell_type": "markdown",
   "metadata": {},
   "source": [
    " ### Ind Датафреймы для обработки данных по неделям"
   ]
  },
  {
   "cell_type": "code",
   "execution_count": 79,
   "metadata": {},
   "outputs": [],
   "source": [
    "df_ind_20_week = df_ind_20.resample('W').sum().round(2)\n",
    "df_ind_20_week.index = df_ind_20_week.index.week"
   ]
  },
  {
   "cell_type": "code",
   "execution_count": 80,
   "metadata": {},
   "outputs": [],
   "source": [
    "df_ind_19_week = df_ind_19.resample('W').sum().round(2)\n",
    "df_ind_19_week.index = df_ind_19_week.index.week"
   ]
  },
  {
   "cell_type": "markdown",
   "metadata": {},
   "source": [
    "### Ind Датафреймы для обработки данных по месяцам"
   ]
  },
  {
   "cell_type": "code",
   "execution_count": 81,
   "metadata": {},
   "outputs": [],
   "source": [
    "df_ind_19_month = df_ind_19.resample('M').sum().round(2)\n",
    "df_ind_19_month.index = df_ind_19_month.index.month\n",
    "\n",
    "df_ind_20_month = df_ind_20.resample('M').sum().round(2)\n",
    "df_ind_20_month.index = df_ind_20_month.index.month"
   ]
  },
  {
   "cell_type": "markdown",
   "metadata": {},
   "source": [
    "### Введем переменную последней даты в датафрейме"
   ]
  },
  {
   "cell_type": "markdown",
   "metadata": {},
   "source": [
    "### Ind Грузим фактические данные помесячного потребления для индустрий"
   ]
  },
  {
   "cell_type": "code",
   "execution_count": 82,
   "metadata": {},
   "outputs": [],
   "source": [
    "def new_industry(x):\n",
    "    x = x.strip()\n",
    "    x = x.replace('ОАО «РЖД»','ОАО \"РЖД\"')\n",
    "    return x\n",
    "\n",
    "# Скачиваем таблицу\n",
    "mes_ind = pd.read_excel('Помесячные_приведенные_июль.xlsx', sheet_name=1)\n",
    "\n",
    "# Удаляем ненужные столбцы\n",
    "mes_ind = mes_ind.drop(['Отрасль','ОЭС','Энергосистема'],axis=1)\n",
    "\n",
    "# Прописываем новые индексы\n",
    "mes_ind.index = mes_ind['Отрасль/Предприятие']\n",
    "\n",
    "# Очищаем от пробелов\n",
    "mes_ind['Отрасль/Предприятие'] = mes_ind['Отрасль/Предприятие'].apply(new_industry)\n",
    "\n",
    "# Удаляем столбец который перешел в индексы\n",
    "mes_ind = mes_ind.drop(['Отрасль/Предприятие'],axis=1)\n",
    "\n",
    "# Прописываем колонки как datetimeindex\n",
    "mes_ind.columns = pd.DatetimeIndex(mes_ind.columns)\n",
    "\n",
    "# Транспонируем\n",
    "mes_ind = mes_ind.T"
   ]
  },
  {
   "cell_type": "markdown",
   "metadata": {},
   "source": [
    "### Ind Отклонения с 1 числа по ОПЕРАТИВНЫМ ДАННЫМ"
   ]
  },
  {
   "cell_type": "code",
   "execution_count": 83,
   "metadata": {},
   "outputs": [
    {
     "name": "stdout",
     "output_type": "stream",
     "text": [
      "Динна по 2019 -  44\n",
      "Динна по 2020 -  44\n"
     ]
    }
   ],
   "source": [
    "df_ind_20_otkl_oper_mon = df_ind_20.loc[f'{today.year}-{oper_month}-01':]\n",
    "df_ind_19_otkl_oper_mon = df_ind_19.loc[f'{today.year-1}-{oper_month}-01':]\n",
    "df_ind_19_otkl_oper_mon = df_ind_19_otkl_oper_mon.iloc[:len(df_ind_20_otkl_oper_mon)]\n",
    "\n",
    "print('Динна по 2019 - ',len(df_ind_20_otkl_oper_mon))\n",
    "print('Динна по 2020 - ',len(df_ind_19_otkl_oper_mon))"
   ]
  },
  {
   "cell_type": "code",
   "execution_count": 84,
   "metadata": {},
   "outputs": [
    {
     "name": "stdout",
     "output_type": "stream",
     "text": [
      "Unnamed: 2\n",
      "Металлургия                                                -2.6\n",
      "Алюминиевые заводы                                         -0.3\n",
      "Машиностроение                                             -6.7\n",
      "Добывающая промышленность                                 -12.8\n",
      "Предприятия химической промышленности, нефтепереработка    -1.6\n",
      "Предприятия деревообрабатывающей промышленности             0.8\n",
      "ОАО \"РЖД\"                                                  -3.6\n",
      "Магистральные нефтепроводы                                -34.6\n",
      "dtype: float64\n"
     ]
    }
   ],
   "source": [
    "# Отклонение индустрий с 1 числа по оперативным данным\n",
    "ind_delta_oper_1 = np.round((df_ind_20_otkl_oper_mon[list_industry].sum() / df_ind_19_otkl_oper_mon[list_industry].sum()*100 - 100),1)\n",
    "\n",
    "print(ind_delta_oper_1)"
   ]
  },
  {
   "cell_type": "markdown",
   "metadata": {},
   "source": [
    "### Ind Отклонения с 1 числа месяца"
   ]
  },
  {
   "cell_type": "code",
   "execution_count": 85,
   "metadata": {},
   "outputs": [
    {
     "name": "stdout",
     "output_type": "stream",
     "text": [
      "Динна по 2019 -  13\n",
      "Динна по 2020 -  13\n"
     ]
    }
   ],
   "source": [
    "df_ind_20_otkl_act_mon = df_ind_20.loc[f'{today.year}-{today.month}-01':]\n",
    "df_ind_19_otkl_act_mon = df_ind_19.loc[f'{today.year-1}-{today.month}-01':]\n",
    "df_ind_19_otkl_act_mon = df_ind_19_otkl_act_mon.iloc[:len(df_ind_20_otkl_act_mon)]\n",
    "\n",
    "print('Динна по 2019 - ',len(df_ind_20_otkl_act_mon))\n",
    "print('Динна по 2020 - ',len(df_ind_19_otkl_act_mon))"
   ]
  },
  {
   "cell_type": "code",
   "execution_count": 86,
   "metadata": {},
   "outputs": [
    {
     "name": "stdout",
     "output_type": "stream",
     "text": [
      "Unnamed: 2\n",
      "Металлургия                                                -4.0\n",
      "Алюминиевые заводы                                         -0.8\n",
      "Машиностроение                                             -6.1\n",
      "Добывающая промышленность                                 -12.4\n",
      "Предприятия химической промышленности, нефтепереработка    -4.8\n",
      "Предприятия деревообрабатывающей промышленности             1.4\n",
      "ОАО \"РЖД\"                                                  -2.2\n",
      "Магистральные нефтепроводы                                -31.8\n",
      "dtype: float64\n"
     ]
    }
   ],
   "source": [
    "# Отклонение индустрий с 1 числа\n",
    "ind_delta_mon_1 = np.round((df_ind_20_otkl_act_mon[list_industry].sum() / df_ind_19_otkl_act_mon[list_industry].sum()*100 - 100),1)\n",
    "\n",
    "print(ind_delta_mon_1)"
   ]
  },
  {
   "cell_type": "markdown",
   "metadata": {},
   "source": [
    "### Ind Отклонение с 1 января"
   ]
  },
  {
   "cell_type": "code",
   "execution_count": 87,
   "metadata": {
    "scrolled": false
   },
   "outputs": [
    {
     "name": "stdout",
     "output_type": "stream",
     "text": [
      "Отрасль/Предприятие\n",
      "Металлургия                                                -3.4\n",
      "Алюминиевые заводы                                          0.7\n",
      "Машиностроение                                             -5.3\n",
      "Добывающая промышленность                                  -7.4\n",
      "Предприятия химической промышленности, нефтепереработка    -1.7\n",
      "Предприятия деревообрабатывающей промышленности             1.5\n",
      "ОАО \"РЖД\"                                                  -6.5\n",
      "Магистральные нефтепроводы                                -13.2\n",
      "dtype: float64\n"
     ]
    }
   ],
   "source": [
    "# Отклонение индустрий с 1 января\n",
    "ind_delta_jan_1 = (mes_ind.loc[f'2020-01':f'2020-{oper_month-1}'][list_industry].sum() + \n",
    "         df_ind_20_otkl_oper_mon[list_industry].sum() -\n",
    "         df_ind_20.loc['2020-02-29'][list_industry]) / (mes_ind.iloc[:oper_month-1][list_industry].sum() +\n",
    "         df_ind_19_otkl_oper_mon[list_industry].sum())*100 - 100\n",
    "\n",
    "ind_delta_jan_1 = ind_delta_jan_1.apply(lambda x:round(x,1))\n",
    "print(ind_delta_jan_1)"
   ]
  },
  {
   "cell_type": "markdown",
   "metadata": {},
   "source": [
    "### Ind Отклонение с 30 марта"
   ]
  },
  {
   "cell_type": "code",
   "execution_count": 88,
   "metadata": {},
   "outputs": [
    {
     "name": "stdout",
     "output_type": "stream",
     "text": [
      "Динна ряда по 2020 -  168\n",
      "Динна ряда по 2019 -  168\n"
     ]
    }
   ],
   "source": [
    "df_ind_20_otkl_30mar = df_ind_20.loc['2020-03-30':]\n",
    "df_ind_19_otkl_30mar = df_ind_19.loc['2019-03-30':]\n",
    "df_ind_19_otkl_30mar = df_ind_19_otkl_30mar.iloc[:len(df_ind_20_otkl_30mar)]\n",
    "\n",
    "print('Динна ряда по 2020 - ',len(df_ind_20_otkl_30mar))\n",
    "print('Динна ряда по 2019 - ',len(df_ind_19_otkl_30mar))"
   ]
  },
  {
   "cell_type": "code",
   "execution_count": 89,
   "metadata": {
    "scrolled": true
   },
   "outputs": [
    {
     "name": "stdout",
     "output_type": "stream",
     "text": [
      "Unnamed: 2\n",
      "Металлургия                                                -3.9\n",
      "Алюминиевые заводы                                          0.6\n",
      "Машиностроение                                             -6.6\n",
      "Добывающая промышленность                                 -10.5\n",
      "Предприятия химической промышленности, нефтепереработка    -1.6\n",
      "Предприятия деревообрабатывающей промышленности             0.7\n",
      "ОАО \"РЖД\"                                                  -6.6\n",
      "Магистральные нефтепроводы                                -23.2\n",
      "dtype: float64\n"
     ]
    }
   ],
   "source": [
    "# Отклонение индустрий с 30 марта\n",
    "ind_delta_mar_30 = np.round((df_ind_20_otkl_30mar[list_industry].sum() / df_ind_19_otkl_30mar[list_industry].sum()*100 - 100),1)\n",
    "\n",
    "print(ind_delta_mar_30)"
   ]
  },
  {
   "cell_type": "code",
   "execution_count": 90,
   "metadata": {},
   "outputs": [],
   "source": [
    "# Сведем все отклонения в единую табличку\n",
    "ind_date_delta = pd.DataFrame()\n",
    "ind_date_delta = pd.concat([ind_date_delta,ind_delta_jan_1],axis=1)\n",
    "ind_date_delta = pd.concat([ind_date_delta,ind_delta_mar_30],axis=1)\n",
    "ind_date_delta = pd.concat([ind_date_delta,ind_delta_mon_1],axis=1)\n",
    "\n",
    "ind_date_delta.columns = ['Отклонения с 1 января','Отклонения с 30 марта',f'Отклонения с 1.{today.month}']"
   ]
  },
  {
   "cell_type": "markdown",
   "metadata": {},
   "source": [
    "### Ind Понедельная динамика"
   ]
  },
  {
   "cell_type": "code",
   "execution_count": 91,
   "metadata": {},
   "outputs": [],
   "source": [
    "# Сделаем табличку с понедельными отклонениями по индустриям\n",
    "ind_weekly_delta = pd.DataFrame()\n",
    "for industry in list_industry:\n",
    "    transit_df = pd.DataFrame(np.round((df_ind_20_week.iloc[-15:][industry] / \n",
    "                            df_ind_19_week.loc[df_ind_20_week.iloc[-15:].index][industry]*100-100),1))\n",
    "    ind_weekly_delta = pd.concat([ind_weekly_delta,transit_df],axis=1)"
   ]
  },
  {
   "cell_type": "markdown",
   "metadata": {},
   "source": [
    "### Определим регионы"
   ]
  },
  {
   "cell_type": "code",
   "execution_count": 92,
   "metadata": {},
   "outputs": [],
   "source": [
    "Cent = company[company['UES'] == 'ОЭС Центра']\n",
    "Volg = company[company['UES'] == 'ОЭС Средней Волги']\n",
    "Ural = company[company['UES'] == 'ОЭС Урала']\n",
    "SZap = company[company['UES'] == 'ОЭС Северо-Запада']\n",
    "Ug = company[company['UES'] == 'ОЭС Юга']\n",
    "Sib = company[company['UES'] == 'ОЭС Сибири']\n",
    "Vost = company[company['UES'] == 'ОЭС Востока']\n",
    "\n",
    "Cent.name = 'ОЭС Центра'\n",
    "Volg.name = 'ОЭС Средней Волги'\n",
    "Ural.name = 'ОЭС Урала'\n",
    "SZap.name = 'ОЭС Северо-Запада'\n",
    "Ug.name = 'ОЭС Юга'\n",
    "Sib.name = 'ОЭС Сибири'\n",
    "Vost.name = 'ОЭС Востока'"
   ]
  },
  {
   "cell_type": "markdown",
   "metadata": {},
   "source": [
    "### Ind Зададим функции для исследования данных по федеральному округу"
   ]
  },
  {
   "cell_type": "code",
   "execution_count": 93,
   "metadata": {},
   "outputs": [],
   "source": [
    "# Задаем функцию для расчета относительного снижния в текущем месяце\n",
    "def del_ind_per(FO):\n",
    "    dict_per = {}\n",
    "    for i in FO['industry'].unique():\n",
    "        var_per = (df_ind_20[list(FO[FO['industry']==i]['company'])].loc[f'2020-{today.month}':].sum().sum() /\\\n",
    "df_ind_19[list(FO[FO['industry']==i]['company'])].loc[f'2019-{today.month}':f'2019-{today.month}-{lastday}'].sum().sum())*100 - 100\n",
    "        dict_per.setdefault(i, var_per.round(1))\n",
    "    return dict_per"
   ]
  },
  {
   "cell_type": "code",
   "execution_count": 94,
   "metadata": {},
   "outputs": [],
   "source": [
    "# Задаем функцию для расчета абсолютного снижния в текущем месяце\n",
    "def del_ind_abs(FO):\n",
    "    dict_abs = {}\n",
    "    for i in FO['industry'].unique():\n",
    "        var_abs = (df_ind_20[list(FO[FO['industry']==i]['company'])].loc[f'2020-{today.month}':].sum().sum() -\\\n",
    "df_ind_19[list(FO[FO['industry']==i]['company'])].loc[f'2019-{today.month}':f'2019-{today.month}-{lastday}'].sum().sum())\n",
    "        dict_abs.setdefault(i, var_abs.round(1))\n",
    "    return dict_abs"
   ]
  },
  {
   "cell_type": "code",
   "execution_count": 95,
   "metadata": {},
   "outputs": [],
   "source": [
    "# Задаем функцию для расчета абсолютного снижния с 30 марта\n",
    "def del_ind_abs_30march(FO):\n",
    "    dict_abs = {}\n",
    "    for i in FO['industry'].unique():\n",
    "        var_abs = (df_ind_20[list(FO[FO['industry']==i]['company'])].loc[f'2020-04':].sum().sum() -\\\n",
    "df_ind_19[list(FO[FO['industry']==i]['company'])].loc[f'2019-04':f'2019-{today.month}-{lastday}'].sum().sum())\n",
    "        dict_abs.setdefault(i, var_abs.round(1))\n",
    "    return dict_abs"
   ]
  },
  {
   "cell_type": "code",
   "execution_count": 96,
   "metadata": {},
   "outputs": [],
   "source": [
    "# Задаем функцию для расчета относительного снижния с 30 марта\n",
    "def del_ind_per_30march(FO):\n",
    "    dict_per = {}\n",
    "    for i in FO['industry'].unique():\n",
    "        var_per = (df_ind_20[list(FO[FO['industry']==i]['company'])].loc[f'2020-04':].sum().sum() /\\\n",
    "df_ind_19[list(FO[FO['industry']==i]['company'])].loc[f'2019-04':f'2019-{today.month}-{lastday}'].sum().sum())*100-100\n",
    "        dict_per.setdefault(i, var_per.round(1))\n",
    "    return dict_per"
   ]
  },
  {
   "cell_type": "markdown",
   "metadata": {},
   "source": [
    "### Ind Исследуем ФО"
   ]
  },
  {
   "cell_type": "code",
   "execution_count": 97,
   "metadata": {},
   "outputs": [],
   "source": [
    "# Задаем целевой регион - тот, у котрого самое сильное снижение потребления в текущем месяце\n",
    "\n",
    "list_ind_FO = [Cent,Volg,Ural,SZap,Ug,Sib,Vost]\n",
    "\n",
    "for reg in list_ind_FO:\n",
    "    if reg.name == region_min_1:\n",
    "        FO = reg"
   ]
  },
  {
   "cell_type": "code",
   "execution_count": 98,
   "metadata": {},
   "outputs": [],
   "source": [
    "# Относительные снижения отраслей ФО\n",
    "Delta_per = pd.DataFrame.from_dict(del_ind_per(FO),orient='index')\n",
    "Delta_per.columns = [f'Относительные снижения потребления отраслей в {FO.name}']\n",
    "Delta_per = Delta_per.sort_values(by=[f'Относительные снижения потребления отраслей в {FO.name}'], axis=0, ascending=True)\n",
    "\n",
    "# Абсолютные снижения отраслей ФО\n",
    "Delta_abs = pd.DataFrame.from_dict(del_ind_abs(FO),orient='index')\n",
    "Delta_abs.columns = [f'Абсолютные снижения потребления отраслей в {FO.name}']\n",
    "Delta_abs = Delta_abs.sort_values(by=[f'Абсолютные снижения потребления отраслей в {FO.name}'], axis=0, ascending=True)"
   ]
  },
  {
   "cell_type": "code",
   "execution_count": 99,
   "metadata": {},
   "outputs": [
    {
     "data": {
      "text/html": [
       "<div>\n",
       "<style scoped>\n",
       "    .dataframe tbody tr th:only-of-type {\n",
       "        vertical-align: middle;\n",
       "    }\n",
       "\n",
       "    .dataframe tbody tr th {\n",
       "        vertical-align: top;\n",
       "    }\n",
       "\n",
       "    .dataframe thead th {\n",
       "        text-align: right;\n",
       "    }\n",
       "</style>\n",
       "<table border=\"1\" class=\"dataframe\">\n",
       "  <thead>\n",
       "    <tr style=\"text-align: right;\">\n",
       "      <th></th>\n",
       "      <th>Абсолютные снижения потребления отраслей в ОЭС Урала</th>\n",
       "    </tr>\n",
       "  </thead>\n",
       "  <tbody>\n",
       "    <tr>\n",
       "      <th>Добывающая промышленность</th>\n",
       "      <td>-254.9</td>\n",
       "    </tr>\n",
       "    <tr>\n",
       "      <th>Магистральные нефтепроводы</th>\n",
       "      <td>-64.1</td>\n",
       "    </tr>\n",
       "    <tr>\n",
       "      <th>Металлургия</th>\n",
       "      <td>-33.0</td>\n",
       "    </tr>\n",
       "    <tr>\n",
       "      <th>Предприятия химической промышленности, нефтепереработка</th>\n",
       "      <td>-27.7</td>\n",
       "    </tr>\n",
       "    <tr>\n",
       "      <th>ОАО \"РЖД\"</th>\n",
       "      <td>-15.3</td>\n",
       "    </tr>\n",
       "    <tr>\n",
       "      <th>Алюминиевые заводы</th>\n",
       "      <td>-0.9</td>\n",
       "    </tr>\n",
       "  </tbody>\n",
       "</table>\n",
       "</div>"
      ],
      "text/plain": [
       "                                                    Абсолютные снижения потребления отраслей в ОЭС Урала\n",
       "Добывающая промышленность                                                                      -254.9   \n",
       "Магистральные нефтепроводы                                                                      -64.1   \n",
       "Металлургия                                                                                     -33.0   \n",
       "Предприятия химической промышленности, нефтепер...                                              -27.7   \n",
       "ОАО \"РЖД\"                                                                                       -15.3   \n",
       "Алюминиевые заводы                                                                               -0.9   "
      ]
     },
     "execution_count": 99,
     "metadata": {},
     "output_type": "execute_result"
    }
   ],
   "source": [
    "Delta_abs"
   ]
  },
  {
   "cell_type": "code",
   "execution_count": 100,
   "metadata": {},
   "outputs": [
    {
     "name": "stdout",
     "output_type": "stream",
     "text": [
      "Индустрия, в которой зафиксировано самое большое падение потребелния ээ:\n",
      "\n",
      " Добывающая промышленность\n"
     ]
    }
   ],
   "source": [
    "# Находим и задаем переменную на самую упавшую в абсолютных числах индустрию ФО (кроме нефтепроводов и РЖД)\n",
    "\n",
    "lowest_ind = Delta_abs.drop(['Магистральные нефтепроводы','ОАО \"РЖД\"'],axis=0).iloc[0].name\n",
    "#.nsmallest(1,0).index[f'Абсолютные снижения потребления отраслей в {FO.name}']\n",
    "\n",
    "print('Индустрия, в которой зафиксировано самое большое падение потребелния ээ:\\n\\n',lowest_ind)"
   ]
  },
  {
   "cell_type": "code",
   "execution_count": 101,
   "metadata": {},
   "outputs": [],
   "source": [
    "# Находим абсолютные снижения предприятий в самой упавшей индустрии\n",
    "\n",
    "abs_fall_comp = pd.DataFrame(df_ind_20[list(FO[FO['industry']==lowest_ind]['company'])].loc[f'2020-{today.month}':].sum() -\\\n",
    "df_ind_19[list(FO[FO['industry']==lowest_ind]['company'])].loc[f'2019-{today.month}':f'2019-{today.month}-{lastday}'].sum())\n",
    "\n",
    "abs_fall_comp = abs_fall_comp.astype(float).round(1).sort_values(by=0)\n",
    "\n",
    "# Находим относительные снижения предприятий в самой упавшей индустрии\n",
    "\n",
    "per_fall_comp = pd.DataFrame(df_ind_20[list(FO[FO['industry']==lowest_ind]['company'])].loc[f'2020-{today.month}':].sum() /\\\n",
    "df_ind_19[list(FO[FO['industry']==lowest_ind]['company'])].loc[f'2019-{today.month}':f'2019-{today.month}-{lastday}'].sum()*100 - 100)\n",
    "\n",
    "per_fall_comp = per_fall_comp.astype(float).round(1).sort_values(by=0)"
   ]
  },
  {
   "cell_type": "code",
   "execution_count": 102,
   "metadata": {},
   "outputs": [],
   "source": [
    "# Находим абсолютные снижения предприятий в самой упавшей индустрии за период с 30 марта\n",
    "\n",
    "# pd.DataFrame(df_ind_20[list(FO[FO['industry']==lowest_ind]['company'])].loc[f'2020-04':].sum() -\\\n",
    "# df_ind_19[list(FO[FO['industry']==lowest_ind]['company'])].loc[f'2019-04':f'2019-{today.month}-{lastday}'].sum())"
   ]
  },
  {
   "cell_type": "markdown",
   "metadata": {},
   "source": [
    "# Запись данных в эксель"
   ]
  },
  {
   "cell_type": "code",
   "execution_count": 103,
   "metadata": {
    "scrolled": true
   },
   "outputs": [],
   "source": [
    "# Создадим папку для записи\n",
    "file_name = str(df_uespr.index[-1])[:10]+' анализ потребления'\n",
    "\n",
    "if not os.path.isdir(file_name):\n",
    "     os.mkdir(file_name)"
   ]
  },
  {
   "cell_type": "code",
   "execution_count": 104,
   "metadata": {},
   "outputs": [],
   "source": [
    "with pd.ExcelWriter(os.path.join(file_name,'Total_consumption.xlsx')) as writer:  \n",
    "    \n",
    "    # полные отклонения по месяцам (факт + опер)\n",
    "    month_ues_delta.to_excel(writer,sheet_name='Месячные отклонения факт и опер')\n",
    "\n",
    "    # отклонения потребления по ЭС нарастающим итогом\n",
    "    ues_date_delta.to_excel(writer,sheet_name='Отклонение нарастающим итогом')\n",
    "    \n",
    "    # колебания потребления ЕЭС России за последние 14 недель\n",
    "    per_fall_week_t.iloc[-14:][list_UES].round(1).to_excel(writer,sheet_name='Недельные отклонения')\n",
    "      \n",
    "    # абсолютные колебания по 1 минимальному региону с 1 числа текущего месяца\n",
    "    reg_abs_delta_act_mon.to_excel(writer,sheet_name=f'Абс сниж {region_min_1}')\n",
    "    \n",
    "    # относительные колебания по 1 минимальному региону с 1 числа текущего месяца\n",
    "    reg_per_delta_act_mon.to_excel(writer,sheet_name=f'Отн сниж {region_min_1}')\n",
    "    \n",
    "    ind_date_delta.to_excel(writer,sheet_name='Нарастающие отклонения инд')\n",
    "    \n",
    "    ind_weekly_delta.to_excel(writer,sheet_name='Недельные отклонения инд')\n",
    "    \n",
    "    Delta_abs.to_excel(writer,sheet_name=f'Абс сниж отр {FO.name}')\n",
    "    \n",
    "    Delta_per.to_excel(writer,sheet_name=f'Отн сниж отр {FO.name}')\n",
    "    \n",
    "    abs_fall_comp.to_excel(writer,sheet_name= f'Абс {lowest_ind[:6]} {FO.name[4:]}')\n",
    "    \n",
    "    per_fall_comp.to_excel(writer,sheet_name= f'Отн {lowest_ind[:6]} {FO.name[4:]}')"
   ]
  },
  {
   "cell_type": "code",
   "execution_count": null,
   "metadata": {},
   "outputs": [],
   "source": []
  }
 ],
 "metadata": {
  "kernelspec": {
   "display_name": "Python 3",
   "language": "python",
   "name": "python3"
  },
  "language_info": {
   "codemirror_mode": {
    "name": "ipython",
    "version": 3
   },
   "file_extension": ".py",
   "mimetype": "text/x-python",
   "name": "python",
   "nbconvert_exporter": "python",
   "pygments_lexer": "ipython3",
   "version": "3.7.7"
  }
 },
 "nbformat": 4,
 "nbformat_minor": 4
}
